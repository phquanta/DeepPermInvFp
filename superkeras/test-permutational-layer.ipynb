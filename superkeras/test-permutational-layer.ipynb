{
 "cells": [
  {
   "cell_type": "code",
   "execution_count": 1,
   "metadata": {},
   "outputs": [
    {
     "name": "stderr",
     "output_type": "stream",
     "text": [
      "Using TensorFlow backend.\n"
     ]
    }
   ],
   "source": [
    "%load_ext autoreload\n",
    "%autoreload 2\n",
    "from keras.layers import Dense, maximum\n",
    "from .layers import repeat_layers\n",
    "from .permutational_layer import *"
   ]
  },
  {
   "cell_type": "code",
   "execution_count": 2,
   "metadata": {},
   "outputs": [
    {
     "name": "stdout",
     "output_type": "stream",
     "text": [
      "__________________________________________________________________________________________________\n",
      "Layer (type)                    Output Shape         Param #     Connected to                     \n",
      "==================================================================================================\n",
      "x1 (InputLayer)                 (None, 4)            0                                            \n",
      "__________________________________________________________________________________________________\n",
      "x2 (InputLayer)                 (None, 4)            0                                            \n",
      "__________________________________________________________________________________________________\n",
      "concatenate_1 (Concatenate)     (None, 8)            0           x1[0][0]                         \n",
      "                                                                 x2[0][0]                         \n",
      "__________________________________________________________________________________________________\n",
      "hidden_1 (Dense)                (None, 32)           288         concatenate_1[0][0]              \n",
      "__________________________________________________________________________________________________\n",
      "hidden_2 (Dense)                (None, 8)            264         hidden_1[0][0]                   \n",
      "==================================================================================================\n",
      "Total params: 552\n",
      "Trainable params: 552\n",
      "Non-trainable params: 0\n",
      "__________________________________________________________________________________________________\n"
     ]
    }
   ],
   "source": [
    "pairwise_model = PairwiseModel((4,), repeat_layers(Dense, [32, 8], name='hidden'), name=\"pairwise_model\")\n",
    "pairwise_model.summary()"
   ]
  },
  {
   "cell_type": "code",
   "execution_count": 3,
   "metadata": {},
   "outputs": [
    {
     "name": "stdout",
     "output_type": "stream",
     "text": [
      "__________________________________________________________________________________________________\n",
      "Layer (type)                    Output Shape         Param #     Connected to                     \n",
      "==================================================================================================\n",
      "x1_main (InputLayer)            (None, 4)            0                                            \n",
      "__________________________________________________________________________________________________\n",
      "x2 (InputLayer)                 (None, 4)            0                                            \n",
      "__________________________________________________________________________________________________\n",
      "x3 (InputLayer)                 (None, 4)            0                                            \n",
      "__________________________________________________________________________________________________\n",
      "pairwise_model (Model)          (None, 8)            552         x1_main[0][0]                    \n",
      "                                                                 x1_main[0][0]                    \n",
      "                                                                 x1_main[0][0]                    \n",
      "                                                                 x2[0][0]                         \n",
      "                                                                 x1_main[0][0]                    \n",
      "                                                                 x3[0][0]                         \n",
      "__________________________________________________________________________________________________\n",
      "average_1 (Average)             (None, 8)            0           pairwise_model[1][0]             \n",
      "                                                                 pairwise_model[2][0]             \n",
      "                                                                 pairwise_model[3][0]             \n",
      "==================================================================================================\n",
      "Total params: 552\n",
      "Trainable params: 552\n",
      "Non-trainable params: 0\n",
      "__________________________________________________________________________________________________\n"
     ]
    }
   ],
   "source": [
    "perm_encoder = PermutationalEncoder(pairwise_model, 3 ,name='permutational_encoder')\n",
    "perm_encoder.summary()"
   ]
  },
  {
   "cell_type": "code",
   "execution_count": 4,
   "metadata": {},
   "outputs": [
    {
     "name": "stdout",
     "output_type": "stream",
     "text": [
      "__________________________________________________________________________________________________\n",
      "Layer (type)                    Output Shape         Param #     Connected to                     \n",
      "==================================================================================================\n",
      "x1 (InputLayer)                 (None, 4)            0                                            \n",
      "__________________________________________________________________________________________________\n",
      "x2 (InputLayer)                 (None, 4)            0                                            \n",
      "__________________________________________________________________________________________________\n",
      "x3 (InputLayer)                 (None, 4)            0                                            \n",
      "__________________________________________________________________________________________________\n",
      "permutational_encoder (Model)   (None, 8)            552         x1[0][0]                         \n",
      "                                                                 x2[0][0]                         \n",
      "                                                                 x3[0][0]                         \n",
      "                                                                 x2[0][0]                         \n",
      "                                                                 x1[0][0]                         \n",
      "                                                                 x3[0][0]                         \n",
      "                                                                 x3[0][0]                         \n",
      "                                                                 x1[0][0]                         \n",
      "                                                                 x2[0][0]                         \n",
      "==================================================================================================\n",
      "Total params: 552\n",
      "Trainable params: 552\n",
      "Non-trainable params: 0\n",
      "__________________________________________________________________________________________________\n"
     ]
    }
   ],
   "source": [
    "perm_layer = PermutationalLayer(perm_encoder, name='permutational_layer')\n",
    "perm_layer.summary()"
   ]
  },
  {
   "cell_type": "code",
   "execution_count": 5,
   "metadata": {},
   "outputs": [
    {
     "name": "stdout",
     "output_type": "stream",
     "text": [
      "# Input Data\n",
      "[[[1, 2, 3, 4]], [[4, 3, 2, 1]], [[1, 2, 3, 4]]]\n",
      "# Output Features\n",
      "[[-1.0746211  -0.9102764  -2.225684    1.944071    3.3657804   2.1630723\n",
      "   0.00699236  0.83873504]]\n",
      "[[-3.6580932 -2.3145645 -1.2344245  2.7202842  1.9061317  4.5679073\n",
      "   1.383071   2.9916458]]\n",
      "[[-1.0746211  -0.9102764  -2.225684    1.9440708   3.3657804   2.163072\n",
      "   0.00699236  0.83873504]]\n",
      "You will notice that output1 = output2 if input1 = input2. So the permutational layer is simply performing a function f(x) for each input x.\n",
      "It is similar to a shared model applied to each input.\n",
      "The difference that makes this approach better is because f(x) is not standalone like shared model. It sees useful relationship between inputs.\n"
     ]
    }
   ],
   "source": [
    "x = [[[1,2,3,4]],\n",
    "     [[4,3,2,1]],\n",
    "     [[1,2,3,4]]]\n",
    "predictions = perm_layer.predict(x)\n",
    "print('# Input Data')\n",
    "print(x)\n",
    "print('# Output Features')\n",
    "for pred in predictions:\n",
    "    print(pred)\n",
    "print(\"You will notice that output1 = output2 if input1 = input2. So the permutational layer is simply performing a function f(x) for each input x.\")\n",
    "print(\"It is similar to a shared model applied to each input.\")\n",
    "print(\"The difference that makes this approach better is because f(x) is not standalone like shared model. It sees useful relationship between inputs.\")"
   ]
  },
  {
   "cell_type": "code",
   "execution_count": 6,
   "metadata": {},
   "outputs": [],
   "source": [
    "perm_layer2 = PermutationalLayer(PermutationalEncoder(PairwiseModel((8,), repeat_layers(Dense, [16, 4], activation='relu')), 3), name='permutational_layer2')\n",
    "perm_layer3 = PermutationalLayer(PermutationalEncoder(PairwiseModel((4,), repeat_layers(Dense, [16, 4], activation='tanh')), 3), pooling=maximum, name='permutational_layer3')"
   ]
  },
  {
   "cell_type": "code",
   "execution_count": 7,
   "metadata": {},
   "outputs": [
    {
     "name": "stdout",
     "output_type": "stream",
     "text": [
      "__________________________________________________________________________________________________\n",
      "Layer (type)                    Output Shape         Param #     Connected to                     \n",
      "==================================================================================================\n",
      "a (InputLayer)                  (None, 4)            0                                            \n",
      "__________________________________________________________________________________________________\n",
      "b (InputLayer)                  (None, 4)            0                                            \n",
      "__________________________________________________________________________________________________\n",
      "c (InputLayer)                  (None, 4)            0                                            \n",
      "__________________________________________________________________________________________________\n",
      "permutational_layer (Model)     [(None, 8), (None, 8 552         a[0][0]                          \n",
      "                                                                 b[0][0]                          \n",
      "                                                                 c[0][0]                          \n",
      "__________________________________________________________________________________________________\n",
      "permutational_layer2 (Model)    [(None, 4), (None, 4 340         permutational_layer[1][0]        \n",
      "                                                                 permutational_layer[1][1]        \n",
      "                                                                 permutational_layer[1][2]        \n",
      "__________________________________________________________________________________________________\n",
      "permutational_layer3 (Model)    (None, 4)            212         permutational_layer2[1][0]       \n",
      "                                                                 permutational_layer2[1][1]       \n",
      "                                                                 permutational_layer2[1][2]       \n",
      "==================================================================================================\n",
      "Total params: 1,104\n",
      "Trainable params: 1,104\n",
      "Non-trainable params: 0\n",
      "__________________________________________________________________________________________________\n"
     ]
    }
   ],
   "source": [
    "# now let's make a model with multi permutational layers to show you that it's possible!\n",
    "a = Input((4,), name='a')\n",
    "b = Input((4,), name='b')\n",
    "c = Input((4,), name='c')\n",
    "inputs = [a, b, c]\n",
    "outputs = perm_layer(inputs)\n",
    "outputs = perm_layer2(outputs)\n",
    "output = perm_layer3(outputs) # this layer applies a pooling function to the outputs list\n",
    "model = Model(inputs, output)\n",
    "model.summary()"
   ]
  },
  {
   "cell_type": "code",
   "execution_count": 8,
   "metadata": {},
   "outputs": [
    {
     "name": "stdout",
     "output_type": "stream",
     "text": [
      "# Multi-layer Prediction\n",
      "Because the layer is preserving permutation invariance. The output will be the same no matter how many times you permute the input order.\n",
      "## Input/Output 1\n",
      "[[[0, 0, 0, 0]], [[1, 2, 3, 4]], [[4, 3, 2, 1]]]\n",
      "[[ 0.25130957  0.02237612  0.01398425 -0.01015728]]\n",
      "## Input/Output 2\n",
      "[[[1, 2, 3, 4]], [[0, 0, 0, 0]], [[4, 3, 2, 1]]]\n",
      "[[ 0.25130957  0.02237625  0.01398422 -0.0101573 ]]\n",
      "## Input/Output 3\n",
      "[[[4, 3, 2, 1]], [[0, 0, 0, 0]], [[1, 2, 3, 4]]]\n",
      "[[ 0.2513096   0.02237615  0.01398424 -0.01015728]]\n",
      "\n",
      "Isn't this cool !?\n"
     ]
    }
   ],
   "source": [
    "# let's predict with the big mult layers model on some similar data\n",
    "print(\"# Multi-layer Prediction\")\n",
    "print(\"Because the layer is preserving permutation invariance. The output will be the same no matter how many times you permute the input order.\")\n",
    "print('## Input/Output 1')\n",
    "x = [[[0,0,0,0]],\n",
    "     [[1,2,3,4]],\n",
    "     [[4,3,2,1]]]\n",
    "print(x)\n",
    "print(model.predict(x))\n",
    "\n",
    "print('## Input/Output 2')\n",
    "x = [[[1,2,3,4]],\n",
    "     [[0,0,0,0]],\n",
    "     [[4,3,2,1]]]\n",
    "print(x)\n",
    "print(model.predict(x))\n",
    "\n",
    "print('## Input/Output 3')\n",
    "x = [[[4,3,2,1]],\n",
    "     [[0,0,0,0]],\n",
    "     [[1,2,3,4]]]\n",
    "print(x)\n",
    "print(model.predict(x))\n",
    "print()\n",
    "print(\"Isn't this cool !?\")"
   ]
  }
 ],
 "metadata": {
  "kernelspec": {
   "display_name": "Python 3",
   "language": "python",
   "name": "python3"
  },
  "language_info": {
   "codemirror_mode": {
    "name": "ipython",
    "version": 3
   },
   "file_extension": ".py",
   "mimetype": "text/x-python",
   "name": "python",
   "nbconvert_exporter": "python",
   "pygments_lexer": "ipython3",
   "version": "3.6.1"
  }
 },
 "nbformat": 4,
 "nbformat_minor": 2
}
